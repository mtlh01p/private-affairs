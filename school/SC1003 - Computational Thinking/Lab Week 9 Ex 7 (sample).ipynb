{
 "cells": [
  {
   "cell_type": "markdown",
   "id": "99b9e3d7-806a-4690-b9aa-a7d896e25e40",
   "metadata": {},
   "source": [
    "# Week 9: Exercise 7 - Virtual Environment and Jupyter Notebook\n",
    "*YOUR NAME*\n",
    "\n",
    "## 1A2B (Bulls & Cows) Game Design/Development"
   ]
  },
  {
   "cell_type": "code",
   "execution_count": 3,
   "id": "42912038-e881-40a1-9c1a-43fc26c9cf07",
   "metadata": {},
   "outputs": [],
   "source": [
    "import random\n",
    "\n",
    "WIDTH = 4\n",
    "numList = [1,2,3,4,5,6,7,8,9,0]\n"
   ]
  },
  {
   "cell_type": "markdown",
   "id": "541873c1-ef66-4189-bd3d-c0bc9babbe71",
   "metadata": {},
   "source": [
    "#### functionality: randomly generate the target number\n",
    "**input**:\n",
    "* **numList**: the list with 10 digits\n",
    "* **count**: the number of digits to generate\n",
    "\n",
    "\n",
    "**output**: a list with four digits (integers)\n"
   ]
  },
  {
   "cell_type": "code",
   "execution_count": 9,
   "id": "4505f129-c787-43a5-b755-5b2754b6cdc4",
   "metadata": {},
   "outputs": [],
   "source": [
    "def genNumbers(numList, count):\n",
    "\n",
    "\t## TODO ##\n",
    "\t## Shuffle the numList and return the shuffled list\n",
    "    numbers = []\n",
    "    return numbers\n"
   ]
  },
  {
   "cell_type": "markdown",
   "id": "e7aba34b-cf86-460e-ae31-7a10f8462444",
   "metadata": {},
   "source": [
    "#### functionality: obtain the guessing from users\n",
    "**input**:\n",
    "* None\n",
    "* \n",
    "\n",
    "\n",
    "**output**: a list with four digits (integers)\n"
   ]
  },
  {
   "cell_type": "code",
   "execution_count": 6,
   "id": "e8cffb04-1a32-4cc0-9180-912ea9552cc9",
   "metadata": {},
   "outputs": [],
   "source": [
    "def userGuess():\n",
    "\n",
    "    inputStr = input(\"Please input 4 digits: \")\n",
    "    \n",
    "    ## TODO ##\n",
    "    ## Check user input and ensure user entered correct \n",
    "    ## datatype and length of input. \n",
    "    \n",
    "    guess = []\n",
    "\n",
    "    ## TODO ##\n",
    "    ## Transfer the user input to guess list.\n",
    "\n",
    "    return guess\n"
   ]
  },
  {
   "cell_type": "markdown",
   "id": "788c86b9-6a78-4e82-bae2-592fb1161e44",
   "metadata": {},
   "source": [
    "#### functionality: compare the user guessing with the target\n",
    "**input**:\n",
    "* **guessList:** the list of four digits (user guessing)\n",
    "* **answerList:** the list of four digits (target)\n",
    "\n",
    "\n",
    "\n",
    "**output**: a tuple (#A, #B)\n"
   ]
  },
  {
   "cell_type": "code",
   "execution_count": 11,
   "id": "c5c888ac-2bb1-4a91-b9ef-c5acb9b54965",
   "metadata": {},
   "outputs": [],
   "source": [
    "def checkGuess(guessList, answerList):\n",
    "## TODO ##\n",
    "## Check how many correct number entered by the user \n",
    "## and return the count (bulls, cows). \n",
    "    bulls = 0\n",
    "    cows = 0\n",
    "    return (bulls, cows) \n"
   ]
  },
  {
   "cell_type": "markdown",
   "id": "02b69a77-d268-4597-b620-467b623b79ae",
   "metadata": {},
   "source": [
    "### The Main Program"
   ]
  },
  {
   "cell_type": "code",
   "execution_count": null,
   "id": "ee237c04-8c6c-4184-926b-9e08a67d90b2",
   "metadata": {},
   "outputs": [
    {
     "name": "stdin",
     "output_type": "stream",
     "text": [
      "Please input 4 digits:  1234\n"
     ]
    },
    {
     "name": "stdout",
     "output_type": "stream",
     "text": [
      "0 A (Bulls) 0 B (Cows)\n"
     ]
    },
    {
     "name": "stdin",
     "output_type": "stream",
     "text": [
      "Please input 4 digits:  eixt\n"
     ]
    },
    {
     "name": "stdout",
     "output_type": "stream",
     "text": [
      "0 A (Bulls) 0 B (Cows)\n"
     ]
    },
    {
     "name": "stdin",
     "output_type": "stream",
     "text": [
      "Please input 4 digits:  dsadas\n"
     ]
    },
    {
     "name": "stdout",
     "output_type": "stream",
     "text": [
      "0 A (Bulls) 0 B (Cows)\n"
     ]
    },
    {
     "name": "stdin",
     "output_type": "stream",
     "text": [
      "Please input 4 digits:  adadsa\n"
     ]
    },
    {
     "name": "stdout",
     "output_type": "stream",
     "text": [
      "0 A (Bulls) 0 B (Cows)\n"
     ]
    },
    {
     "name": "stdin",
     "output_type": "stream",
     "text": [
      "Please input 4 digits:  asda\n"
     ]
    },
    {
     "name": "stdout",
     "output_type": "stream",
     "text": [
      "0 A (Bulls) 0 B (Cows)\n"
     ]
    },
    {
     "name": "stdin",
     "output_type": "stream",
     "text": [
      "Please input 4 digits:  dada\n"
     ]
    },
    {
     "name": "stdout",
     "output_type": "stream",
     "text": [
      "0 A (Bulls) 0 B (Cows)\n"
     ]
    },
    {
     "name": "stdin",
     "output_type": "stream",
     "text": [
      "Please input 4 digits:  da\n"
     ]
    },
    {
     "name": "stdout",
     "output_type": "stream",
     "text": [
      "0 A (Bulls) 0 B (Cows)\n"
     ]
    },
    {
     "name": "stdin",
     "output_type": "stream",
     "text": [
      "Please input 4 digits:  dad\n"
     ]
    },
    {
     "name": "stdout",
     "output_type": "stream",
     "text": [
      "0 A (Bulls) 0 B (Cows)\n"
     ]
    },
    {
     "name": "stdin",
     "output_type": "stream",
     "text": [
      "Please input 4 digits:  \n"
     ]
    },
    {
     "name": "stdout",
     "output_type": "stream",
     "text": [
      "0 A (Bulls) 0 B (Cows)\n"
     ]
    },
    {
     "name": "stdin",
     "output_type": "stream",
     "text": [
      "Please input 4 digits:  ad\n"
     ]
    },
    {
     "name": "stdout",
     "output_type": "stream",
     "text": [
      "0 A (Bulls) 0 B (Cows)\n"
     ]
    },
    {
     "name": "stdin",
     "output_type": "stream",
     "text": [
      "Please input 4 digits:  adad\n"
     ]
    },
    {
     "name": "stdout",
     "output_type": "stream",
     "text": [
      "0 A (Bulls) 0 B (Cows)\n"
     ]
    },
    {
     "name": "stdin",
     "output_type": "stream",
     "text": [
      "Please input 4 digits:  a\n"
     ]
    },
    {
     "name": "stdout",
     "output_type": "stream",
     "text": [
      "0 A (Bulls) 0 B (Cows)\n"
     ]
    },
    {
     "name": "stdin",
     "output_type": "stream",
     "text": [
      "Please input 4 digits:  \n"
     ]
    },
    {
     "name": "stdout",
     "output_type": "stream",
     "text": [
      "0 A (Bulls) 0 B (Cows)\n"
     ]
    }
   ],
   "source": [
    "answer = genNumbers(numList, WIDTH)\n",
    "#print(answer)\t\t## UNCOMMENT THIS TO SEE WHAT WAS THE \n",
    "## SHUFFLED LIST\n",
    "\n",
    "attemps = 0\n",
    "\n",
    "while True:\n",
    "    guesses = userGuess()\n",
    "    attemps += 1\n",
    "    #print(guesses)\n",
    "\n",
    "    result = checkGuess(guesses, answer)\n",
    "    #print(result)\n",
    "\n",
    "    if result[0] == 4:\n",
    "        print(\"You Win!!\")\n",
    "        print(\"Attemps: \", attemps)\n",
    "        break\n",
    "    else:\n",
    "        print(result[0], \"A (Bulls)\", result[1], \"B (Cows)\")\n"
   ]
  },
  {
   "cell_type": "code",
   "execution_count": null,
   "id": "9bdd0f43-0e38-4819-bb1b-b886caf888a1",
   "metadata": {},
   "outputs": [],
   "source": []
  }
 ],
 "metadata": {
  "kernelspec": {
   "display_name": "Python 3 (ipykernel)",
   "language": "python",
   "name": "python3"
  },
  "language_info": {
   "codemirror_mode": {
    "name": "ipython",
    "version": 3
   },
   "file_extension": ".py",
   "mimetype": "text/x-python",
   "name": "python",
   "nbconvert_exporter": "python",
   "pygments_lexer": "ipython3",
   "version": "3.12.6"
  }
 },
 "nbformat": 4,
 "nbformat_minor": 5
}
