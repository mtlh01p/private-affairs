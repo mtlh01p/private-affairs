{
 "cells": [
  {
   "cell_type": "markdown",
   "id": "bc68fdb9-0e06-4139-9488-9195866e0176",
   "metadata": {},
   "source": [
    "# Week 9: Exercise 7 - Virtual Environment and Jupyter Notebook \n",
    "*YOUR NAME* \n",
    "## 1A2B (Bulls & Cows) Game Design/Development\n",
    "\n",
    "import random\n",
    "lebar = 4\n",
    "numList = [1, 2, 3, 4, 5, 6, 7, 8, 9, 0]\n",
    "selNums = []\n",
    "win = False\n",
    "play = False\n",
    "attempt = 0\n",
    "\n",
    "def genNumbers():\n",
    "    global numList, selNums\n",
    "    if len(selNums) != 0:\n",
    "        selNums = []\n",
    "    for x in range(lebar):\n",
    "        f = random.choice(numList)\n",
    "        selNums.append(f)\n",
    "\n",
    "def userGuess():\n",
    "    global win, lebar, selNums\n",
    "    valid = False\n",
    "    while valid == False:\n",
    "        m = input(\"Please input 4 digits: \")\n",
    "        if m.isnumeric() and len(m) == lebar:\n",
    "            valid = True\n",
    "    bulls = 0\n",
    "    cows = 0\n",
    "    for y in range(lebar):\n",
    "        if int(m[y]) == selNums[y]:\n",
    "            bulls += 1\n",
    "        elif int(m[y]) in selNums:\n",
    "            cows += 1\n",
    "    if bulls == lebar:\n",
    "        win = True\n",
    "        print(\"You win!\")\n",
    "        print(\"You did \", attempt, \"attempts.\")\n",
    "    else:\n",
    "        print(bulls, \"A and \", cows, \"B\")\n",
    "\n",
    "while True:\n",
    "    attempt = 0\n",
    "    win = False\n",
    "    play = False\n",
    "    if play == False:\n",
    "        genNumbers()\n",
    "        play = True\n",
    "    while play == True and win == False:\n",
    "        attempt += 1\n",
    "        userGuess()"
   ]
  }
 ],
 "metadata": {
  "kernelspec": {
   "display_name": "Python 3 (ipykernel)",
   "language": "python",
   "name": "python3"
  },
  "language_info": {
   "codemirror_mode": {
    "name": "ipython",
    "version": 3
   },
   "file_extension": ".py",
   "mimetype": "text/x-python",
   "name": "python",
   "nbconvert_exporter": "python",
   "pygments_lexer": "ipython3",
   "version": "3.9.9"
  }
 },
 "nbformat": 4,
 "nbformat_minor": 5
}
